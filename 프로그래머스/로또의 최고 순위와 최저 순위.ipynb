{
 "cells": [
  {
   "cell_type": "code",
   "execution_count": null,
   "id": "d994cb6c",
   "metadata": {},
   "outputs": [],
   "source": [
    "def solution(lottos, win_nums):\n",
    "    rank = [6,6,5,4,3,2,1]\n",
    "    \n",
    "    ans = lottos.count(0)\n",
    "    cnt = 0\n",
    "    for i in win_nums:\n",
    "        if i in lottos:\n",
    "            cnt += 1\n",
    "    return rank[cnt+ans], rank[cnt]"
   ]
  }
 ],
 "metadata": {
  "kernelspec": {
   "display_name": "Python 3 (ipykernel)",
   "language": "python",
   "name": "python3"
  },
  "language_info": {
   "codemirror_mode": {
    "name": "ipython",
    "version": 3
   },
   "file_extension": ".py",
   "mimetype": "text/x-python",
   "name": "python",
   "nbconvert_exporter": "python",
   "pygments_lexer": "ipython3",
   "version": "3.8.12"
  }
 },
 "nbformat": 4,
 "nbformat_minor": 5
}
