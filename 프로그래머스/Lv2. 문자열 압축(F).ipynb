{
 "cells": [
  {
   "cell_type": "markdown",
   "id": "c65f7454",
   "metadata": {},
   "source": [
    "https://programmers.co.kr/learn/courses/30/lessons/60057"
   ]
  },
  {
   "cell_type": "code",
   "execution_count": 5,
   "id": "88ac3973",
   "metadata": {},
   "outputs": [],
   "source": [
    "def solution(s):\n",
    "    answer = 21470000000\n",
    "    n = len(s)\n",
    "    if len(s) == 1:\n",
    "        return 1\n",
    "    for i in range(1, n//2+1):\n",
    "        res = ''\n",
    "        cnt = 1\n",
    "        tmp = s[:i]\n",
    "        \n",
    "        for j in range(i,n,i) :\n",
    "            if tmp == s[j:j+i] :\n",
    "                cnt += 1\n",
    "            else :\n",
    "                if cnt == 1 :\n",
    "                    res += tmp\n",
    "                else :\n",
    "                    res += str(cnt) + tmp\n",
    "                tmp = s[j:j+i]\n",
    "                cnt = 1\n",
    "        if cnt == 1 :\n",
    "            res += tmp\n",
    "        else : \n",
    "            res += str(cnt) + tmp\n",
    "        answer = min(len(res),answer)\n",
    "          \n",
    "    return answer"
   ]
  },
  {
   "cell_type": "code",
   "execution_count": null,
   "id": "bcef3dd0",
   "metadata": {},
   "outputs": [],
   "source": []
  }
 ],
 "metadata": {
  "kernelspec": {
   "display_name": "Python 3 (ipykernel)",
   "language": "python",
   "name": "python3"
  },
  "language_info": {
   "codemirror_mode": {
    "name": "ipython",
    "version": 3
   },
   "file_extension": ".py",
   "mimetype": "text/x-python",
   "name": "python",
   "nbconvert_exporter": "python",
   "pygments_lexer": "ipython3",
   "version": "3.8.12"
  }
 },
 "nbformat": 4,
 "nbformat_minor": 5
}
