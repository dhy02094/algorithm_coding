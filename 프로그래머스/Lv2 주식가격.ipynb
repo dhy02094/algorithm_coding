{
 "cells": [
  {
   "cell_type": "code",
   "execution_count": null,
   "id": "67f60525",
   "metadata": {},
   "outputs": [],
   "source": [
    "# 브루트 포스 (시간초과)\n",
    "def solution(prices):\n",
    "    answer = [0] * len(prices)\n",
    "    for i in range(len(prices)):\n",
    "        for j in prices[i+1:]:\n",
    "            if prices[i] <= j :\n",
    "                answer[i] += 1\n",
    "            else :\n",
    "                answer[i] += 1\n",
    "                break\n",
    "    return answer"
   ]
  },
  {
   "cell_type": "code",
   "execution_count": 4,
   "id": "4f1f480e",
   "metadata": {},
   "outputs": [
    {
     "name": "stdout",
     "output_type": "stream",
     "text": [
      "3 2 [0, 1]\n",
      "5 4 [0, 1, 3]\n",
      "5 3 [0, 1]\n",
      "5 1 [0]\n"
     ]
    },
    {
     "data": {
      "text/plain": [
       "[6, 4, 1, 2, 1, 1, 0]"
      ]
     },
     "execution_count": 4,
     "metadata": {},
     "output_type": "execute_result"
    }
   ],
   "source": [
    "# 스택이고 빠른데 이해가  잘안됨.\n",
    "def solution(prices):\n",
    "    n = len(prices)\n",
    "    answer = [ i for i in range(n-1, -1,-1)]\n",
    "    stack = [0]\n",
    "    \n",
    "    for i in range(1,n):\n",
    "        while stack and prices[stack[-1]] > prices[i]:\n",
    "            j = stack.pop()\n",
    "            answer[j] = i - j\n",
    "            print(i,j,stack)\n",
    "        stack.append(i)\n",
    "    return answer\n",
    "\n",
    "solution([1,2,3,2,3,1,3])"
   ]
  },
  {
   "cell_type": "markdown",
   "id": "7f382019",
   "metadata": {},
   "source": [
    "[1,2,3,2,3]"
   ]
  }
 ],
 "metadata": {
  "kernelspec": {
   "display_name": "Python 3 (ipykernel)",
   "language": "python",
   "name": "python3"
  },
  "language_info": {
   "codemirror_mode": {
    "name": "ipython",
    "version": 3
   },
   "file_extension": ".py",
   "mimetype": "text/x-python",
   "name": "python",
   "nbconvert_exporter": "python",
   "pygments_lexer": "ipython3",
   "version": "3.8.12"
  }
 },
 "nbformat": 4,
 "nbformat_minor": 5
}
