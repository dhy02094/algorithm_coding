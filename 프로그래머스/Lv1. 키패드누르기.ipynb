{
 "cells": [
  {
   "cell_type": "code",
   "execution_count": 1,
   "id": "3fc29c53",
   "metadata": {},
   "outputs": [
    {
     "name": "stdout",
     "output_type": "stream",
     "text": [
      "[0, 0]\n"
     ]
    },
    {
     "data": {
      "text/plain": [
       "0"
      ]
     },
     "execution_count": 1,
     "metadata": {},
     "output_type": "execute_result"
    }
   ],
   "source": [
    "p = [0]*2\n",
    "print(p)\n",
    "p[0]"
   ]
  },
  {
   "cell_type": "code",
   "execution_count": 2,
   "id": "dea66e1c",
   "metadata": {},
   "outputs": [],
   "source": [
    "a = [[3,1],[0,0],[0,1],[0,2],[1,0],[1,1],[1,2],[2,1],[2,2],[2,3]]"
   ]
  },
  {
   "cell_type": "code",
   "execution_count": 3,
   "id": "0b0402a7",
   "metadata": {},
   "outputs": [
    {
     "data": {
      "text/plain": [
       "[[0, 0], 0]"
      ]
     },
     "execution_count": 3,
     "metadata": {},
     "output_type": "execute_result"
    }
   ],
   "source": [
    "p[0] = a[1]\n",
    "p"
   ]
  },
  {
   "cell_type": "code",
   "execution_count": 4,
   "id": "655844a7",
   "metadata": {},
   "outputs": [
    {
     "data": {
      "text/plain": [
       "[3, 1]"
      ]
     },
     "execution_count": 4,
     "metadata": {},
     "output_type": "execute_result"
    }
   ],
   "source": [
    "a[0]"
   ]
  },
  {
   "cell_type": "code",
   "execution_count": 5,
   "id": "ceca4cf4",
   "metadata": {},
   "outputs": [],
   "source": [
    "numbers = [1, 3, 4, 5, 8, 2, 1, 4, 5, 9, 5]\n"
   ]
  },
  {
   "cell_type": "code",
   "execution_count": 9,
   "id": "e56a7d7c",
   "metadata": {},
   "outputs": [],
   "source": [
    "dis_l = abs((a[numbers[0]][0]-p[0][0])+a[numbers[0]][1]-p[0][1])"
   ]
  },
  {
   "cell_type": "code",
   "execution_count": 10,
   "id": "de1f7165",
   "metadata": {},
   "outputs": [
    {
     "data": {
      "text/plain": [
       "2"
      ]
     },
     "execution_count": 10,
     "metadata": {},
     "output_type": "execute_result"
    }
   ],
   "source": [
    "dis_l"
   ]
  },
  {
   "cell_type": "code",
   "execution_count": 8,
   "id": "69f48f52",
   "metadata": {},
   "outputs": [],
   "source": [
    "p[0] = [1,1]"
   ]
  },
  {
   "cell_type": "code",
   "execution_count": 13,
   "id": "53eb57c6",
   "metadata": {},
   "outputs": [],
   "source": [
    "def solution(numbers, hand):\n",
    "    answer = ''\n",
    "    left_n = [1,4,7]\n",
    "    right_n = [3,6,9]\n",
    "    a = [[3,1],[0,0],[0,1],[0,2],[1,0],[1,1],[1,2],[2,0],[2,1],[2,2]]\n",
    "    p = [[3,0],[3,2]]\n",
    "    while numbers:\n",
    "        if numbers[0] in left_n:\n",
    "            answer+='L'\n",
    "            b = numbers.pop(0)\n",
    "            p[0] = a[b]\n",
    "        elif numbers[0] in right_n:\n",
    "            answer+='R'\n",
    "            b = numbers.pop(0)\n",
    "            p[1] = a[b]\n",
    "        else : \n",
    "            dis_l = abs((a[numbers[0]][0]-p[0][0])+a[numbers[0]][1]-p[0][1])\n",
    "            dis_r = abs((a[numbers[0]][0]-p[1][0])+a[numbers[0]][1]-p[1][1])\n",
    "            print(dis_l)\n",
    "            numbers.pop(0)\n",
    "            if dis_l > dis_r :\n",
    "                answer+='R'\n",
    "                b = numbers.pop(0)\n",
    "                p[1] = a[b]\n",
    "            elif dis_l < dis_r:\n",
    "                answer+='L'\n",
    "                b = numbers.pop(0)\n",
    "                p[0] = a[b]\n",
    "            else :\n",
    "                if hand == 'right':\n",
    "                    answer += 'R'\n",
    "                    b = numbers.pop(0)\n",
    "                    p[1] = a[b]\n",
    "                else:\n",
    "                    answer +='L'\n",
    "                    b = numbers.pop(0)\n",
    "                    p[0] = a[b]\n",
    "    return answer"
   ]
  },
  {
   "cell_type": "code",
   "execution_count": 14,
   "id": "b0d3d67e",
   "metadata": {},
   "outputs": [
    {
     "data": {
      "text/plain": [
       "''"
      ]
     },
     "execution_count": 14,
     "metadata": {},
     "output_type": "execute_result"
    }
   ],
   "source": [
    "solution(numbers, 'right')"
   ]
  },
  {
   "cell_type": "code",
   "execution_count": null,
   "id": "4347ab20",
   "metadata": {},
   "outputs": [],
   "source": []
  }
 ],
 "metadata": {
  "kernelspec": {
   "display_name": "Python 3 (ipykernel)",
   "language": "python",
   "name": "python3"
  },
  "language_info": {
   "codemirror_mode": {
    "name": "ipython",
    "version": 3
   },
   "file_extension": ".py",
   "mimetype": "text/x-python",
   "name": "python",
   "nbconvert_exporter": "python",
   "pygments_lexer": "ipython3",
   "version": "3.8.12"
  }
 },
 "nbformat": 4,
 "nbformat_minor": 5
}
