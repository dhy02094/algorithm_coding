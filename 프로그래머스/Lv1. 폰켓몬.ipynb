{
 "cells": [
  {
   "cell_type": "markdown",
   "id": "6a5a832e",
   "metadata": {},
   "source": [
    "https://programmers.co.kr/learn/courses/30/lessons/1845"
   ]
  },
  {
   "cell_type": "code",
   "execution_count": null,
   "id": "cd4ea4dc",
   "metadata": {},
   "outputs": [],
   "source": [
    "def solution(nums):\n",
    "    answer = 0\n",
    "    a = set(nums)\n",
    "    if len(nums)//2 < len(a):\n",
    "        answer = len(nums)//2\n",
    "    else :\n",
    "        answer = len(a)\n",
    "    return answer"
   ]
  }
 ],
 "metadata": {
  "kernelspec": {
   "display_name": "Python 3 (ipykernel)",
   "language": "python",
   "name": "python3"
  },
  "language_info": {
   "codemirror_mode": {
    "name": "ipython",
    "version": 3
   },
   "file_extension": ".py",
   "mimetype": "text/x-python",
   "name": "python",
   "nbconvert_exporter": "python",
   "pygments_lexer": "ipython3",
   "version": "3.8.12"
  }
 },
 "nbformat": 4,
 "nbformat_minor": 5
}
