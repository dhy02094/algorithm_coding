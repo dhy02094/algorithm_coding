{
 "cells": [
  {
   "cell_type": "code",
   "execution_count": 4,
   "id": "078d3bcd",
   "metadata": {},
   "outputs": [],
   "source": [
    "pro = [95,90,99,99,80,89]\n",
    "speeds = [1,1,1,1,1,1]"
   ]
  },
  {
   "cell_type": "code",
   "execution_count": 5,
   "id": "ed583840",
   "metadata": {},
   "outputs": [
    {
     "name": "stdout",
     "output_type": "stream",
     "text": [
      "[1, 3, 2]\n"
     ]
    }
   ],
   "source": [
    "def solution(pro, speeds):\n",
    "    answer = []\n",
    "    time = 0 \n",
    "    count = 0\n",
    "    \n",
    "    while len(pro)>0:\n",
    "        if (pro[0] + time*speeds[0]) >= 100:\n",
    "            pro.pop(0)\n",
    "            speeds.pop(0)\n",
    "            count += 1\n",
    "            \n",
    "        else :\n",
    "            if count > 0:\n",
    "                answer.append(count)\n",
    "                count = 0\n",
    "            time += 1\n",
    "    answer.append(count)\n",
    "    return answer\n",
    "\n",
    "print(solution(pro,speeds))\n",
    "            "
   ]
  }
 ],
 "metadata": {
  "kernelspec": {
   "display_name": "Python 3 (ipykernel)",
   "language": "python",
   "name": "python3"
  },
  "language_info": {
   "codemirror_mode": {
    "name": "ipython",
    "version": 3
   },
   "file_extension": ".py",
   "mimetype": "text/x-python",
   "name": "python",
   "nbconvert_exporter": "python",
   "pygments_lexer": "ipython3",
   "version": "3.8.12"
  }
 },
 "nbformat": 4,
 "nbformat_minor": 5
}
