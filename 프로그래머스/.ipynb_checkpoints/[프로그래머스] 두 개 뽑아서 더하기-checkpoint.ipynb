{
 "cells": [
  {
   "cell_type": "markdown",
   "id": "f19077e3",
   "metadata": {},
   "source": [
    "### Q2 (https://programmers.co.kr/learn/courses/30/lessons/68644)\n",
    "\n",
    "### 정수 리스트 numbers가 주어집니다. numbers에서 서로 다른 인덱스에 있는 두 개의 수를 뽑아 더해서 만들 수 있는 모든 수를 리스트에 오름차순으로 담아 return 하도록 solution 함수를 완성해주세요.\n",
    "\n",
    "### 제한사항\n",
    "- numbers의 길이는 2 이상 100 이하입니다.\n",
    "- numbers의 모든 수는 0 이상 100 이하입니다.\n",
    "- 결과값에 중복되는 값은 한번만 포함되어야 합니다.\n",
    "\n",
    "### 입출력 예\n",
    "|numbers |result\n",
    "|--------|-------\n",
    "|[2,1,3,4,1]|[2,3,4,5,6,7]\n",
    "|[5,0,2,7]|[2,5,7,9,12]"
   ]
  },
  {
   "cell_type": "code",
   "execution_count": null,
   "id": "b564a90e",
   "metadata": {},
   "outputs": [],
   "source": [
    "# Q2 Answer template\n",
    "\n",
    "def solution(numbers):\n",
    "    answer = []\n",
    "    for i in range(len(numbers)):\n",
    "        for j in range(i+1,len(numbers)):\n",
    "            ans = numbers[i] + numbers[j]\n",
    "            answer.append(ans)\n",
    "    answer = set(answer)\n",
    "    answer = list(answer)\n",
    "    answer.sort()   \n",
    "    return answer\n",
    "\n",
    "numbers = [1,4,4,1]\n",
    "answer = solution(numbers)\n",
    "print(answer)"
   ]
  }
 ],
 "metadata": {
  "kernelspec": {
   "display_name": "Python 3 (ipykernel)",
   "language": "python",
   "name": "python3"
  },
  "language_info": {
   "codemirror_mode": {
    "name": "ipython",
    "version": 3
   },
   "file_extension": ".py",
   "mimetype": "text/x-python",
   "name": "python",
   "nbconvert_exporter": "python",
   "pygments_lexer": "ipython3",
   "version": "3.8.12"
  }
 },
 "nbformat": 4,
 "nbformat_minor": 5
}
