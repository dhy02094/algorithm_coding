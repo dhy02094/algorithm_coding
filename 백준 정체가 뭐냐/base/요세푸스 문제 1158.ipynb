{
 "cells": [
  {
   "cell_type": "code",
   "execution_count": 21,
   "id": "3e6b4d18",
   "metadata": {},
   "outputs": [
    {
     "name": "stdout",
     "output_type": "stream",
     "text": [
      "7 3\n",
      "<3, 6, 2, 7, 5, 1, 4>\n"
     ]
    }
   ],
   "source": [
    "from collections import deque\n",
    "\n",
    "n, k = map(int, input().split())\n",
    "dq = deque([i for i in range(1,n+1)])\n",
    "rlt = []\n",
    "while dq:\n",
    "    for _ in range(k-1):\n",
    "        dq.rotate(-1)\n",
    "    rlt.append(dq.popleft())\n",
    "\n",
    "print('<',', '.join(str(i) for i in rlt)[:], \">\", sep=\"\")\n",
    "    \n",
    "        "
   ]
  }
 ],
 "metadata": {
  "kernelspec": {
   "display_name": "Python 3 (ipykernel)",
   "language": "python",
   "name": "python3"
  },
  "language_info": {
   "codemirror_mode": {
    "name": "ipython",
    "version": 3
   },
   "file_extension": ".py",
   "mimetype": "text/x-python",
   "name": "python",
   "nbconvert_exporter": "python",
   "pygments_lexer": "ipython3",
   "version": "3.8.12"
  }
 },
 "nbformat": 4,
 "nbformat_minor": 5
}
