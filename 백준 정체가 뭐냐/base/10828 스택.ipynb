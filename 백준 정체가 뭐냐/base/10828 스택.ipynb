{
 "cells": [
  {
   "cell_type": "code",
   "execution_count": 4,
   "id": "23c0ec82",
   "metadata": {},
   "outputs": [
    {
     "name": "stdout",
     "output_type": "stream",
     "text": [
      "14\n",
      "push 1\n",
      "push 2\n",
      "top\n",
      "size\n",
      "empty\n",
      "pop\n",
      "pop\n",
      "pop\n",
      "size\n",
      "empty\n",
      "pop\n",
      "push 3\n",
      "empty\n",
      "top\n",
      "2\n",
      "2\n",
      "0\n",
      "2\n",
      "1\n",
      "-1\n",
      "0\n",
      "1\n",
      "-1\n",
      "0\n",
      "3\n"
     ]
    }
   ],
   "source": [
    "n = int(input())\n",
    "a = []\n",
    "for _ in range(n):\n",
    "    a.append(list(map(str, input().split())))\n",
    "stack = []\n",
    "for i in a:\n",
    "    if i[0]=='push':\n",
    "        stack.append(int(i[1]))\n",
    "    elif i[0]=='top':\n",
    "        if stack:\n",
    "            print(stack[-1])\n",
    "        else :\n",
    "            print(-1)\n",
    "    elif i[0] =='size':\n",
    "        print(len(stack))\n",
    "    elif i[0]=='empty':\n",
    "        if stack:\n",
    "            print(0)\n",
    "        else:\n",
    "            print(1)\n",
    "    elif i[0]=='pop':\n",
    "        if stack:\n",
    "            print(stack.pop())\n",
    "        else :\n",
    "            print(-1)    \n"
   ]
  },
  {
   "cell_type": "code",
   "execution_count": null,
   "id": "2dad4822",
   "metadata": {},
   "outputs": [],
   "source": []
  }
 ],
 "metadata": {
  "kernelspec": {
   "display_name": "Python 3 (ipykernel)",
   "language": "python",
   "name": "python3"
  },
  "language_info": {
   "codemirror_mode": {
    "name": "ipython",
    "version": 3
   },
   "file_extension": ".py",
   "mimetype": "text/x-python",
   "name": "python",
   "nbconvert_exporter": "python",
   "pygments_lexer": "ipython3",
   "version": "3.8.12"
  }
 },
 "nbformat": 4,
 "nbformat_minor": 5
}
