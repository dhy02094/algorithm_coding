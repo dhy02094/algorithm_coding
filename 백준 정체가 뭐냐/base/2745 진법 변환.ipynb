{
 "cells": [
  {
   "cell_type": "code",
   "execution_count": 21,
   "id": "208bec05",
   "metadata": {},
   "outputs": [
    {
     "name": "stdout",
     "output_type": "stream",
     "text": [
      "ZZZZZ 36\n",
      "60466175\n"
     ]
    }
   ],
   "source": [
    "tmp = '0123456789ABCDEFGHIJKLMNOPQRSTUVWXYZ'\n",
    "tmp = list(tmp)\n",
    "\n",
    "m, n = map(str, input().split())\n",
    "n =int(n)\n",
    "\n",
    "m = m[::-1]\n",
    "rlt = 0\n",
    "for i in range(len(m)):\n",
    "    ans = tmp.index(m[i]) * (n**i)\n",
    "    rlt += ans\n",
    "print(rlt)\n",
    "    "
   ]
  }
 ],
 "metadata": {
  "kernelspec": {
   "display_name": "Python 3 (ipykernel)",
   "language": "python",
   "name": "python3"
  },
  "language_info": {
   "codemirror_mode": {
    "name": "ipython",
    "version": 3
   },
   "file_extension": ".py",
   "mimetype": "text/x-python",
   "name": "python",
   "nbconvert_exporter": "python",
   "pygments_lexer": "ipython3",
   "version": "3.8.12"
  }
 },
 "nbformat": 4,
 "nbformat_minor": 5
}
