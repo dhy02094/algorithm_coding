{
 "cells": [
  {
   "cell_type": "code",
   "execution_count": 34,
   "id": "8df500e8",
   "metadata": {},
   "outputs": [
    {
     "name": "stdout",
     "output_type": "stream",
     "text": [
      "One is 1\n",
      "B\n",
      "Ba\n",
      "Bar\n",
      "Bar v\n",
      "Bar vf\n",
      "Bar vf 1\n"
     ]
    }
   ],
   "source": [
    "a = input()\n",
    "rlt = ''\n",
    "for i in a:\n",
    "    if i == ' ':\n",
    "        rlt += i\n",
    "    else :\n",
    "        if 65<=ord(i)<78 or 97<=ord(i)<110:\n",
    "            rlt += chr(ord(i)+13)\n",
    "        elif 48<=ord(i)<=57:\n",
    "            rlt += i\n",
    "        else:\n",
    "            rlt += chr(ord(i)-13)\n",
    "\n",
    "print(rlt)\n",
    "    "
   ]
  }
 ],
 "metadata": {
  "kernelspec": {
   "display_name": "Python 3 (ipykernel)",
   "language": "python",
   "name": "python3"
  },
  "language_info": {
   "codemirror_mode": {
    "name": "ipython",
    "version": 3
   },
   "file_extension": ".py",
   "mimetype": "text/x-python",
   "name": "python",
   "nbconvert_exporter": "python",
   "pygments_lexer": "ipython3",
   "version": "3.8.12"
  }
 },
 "nbformat": 4,
 "nbformat_minor": 5
}
