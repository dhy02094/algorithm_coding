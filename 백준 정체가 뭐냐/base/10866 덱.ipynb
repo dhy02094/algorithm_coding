{
 "cells": [
  {
   "cell_type": "code",
   "execution_count": null,
   "id": "3663e8cf",
   "metadata": {},
   "outputs": [],
   "source": [
    "from collections import deque\n",
    "n = int(input())\n",
    "a = []\n",
    "Q = deque()\n",
    "for _ in range(n):\n",
    "    a.append(list(map(str,input().split())))\n",
    "\n",
    "for i in a:\n",
    "    if i[0] == 'push_front':\n",
    "        Q.appendleft(i[1])\n",
    "    elif i[0]=='push_back':\n",
    "        Q.append(i[1])\n",
    "    elif i[0]=='pop_front':\n",
    "        if Q:\n",
    "            print(Q.popleft())\n",
    "        else:\n",
    "            print(-1)\n",
    "    elif i[0]=='pop_back':\n",
    "        if Q:\n",
    "            print(Q.pop())\n",
    "        else:\n",
    "            print(-1)\n",
    "    elif i[0]=='size':\n",
    "        print(len(Q))\n",
    "    elif i[0]=='empty':\n",
    "        if Q:\n",
    "            print(0)\n",
    "        else:\n",
    "            print(1)\n",
    "    elif i[0]=='front':\n",
    "        if Q:\n",
    "            print(Q[0])\n",
    "        else:\n",
    "            print(-1)\n",
    "    elif i[0]=='back':\n",
    "        if Q:\n",
    "            print(Q[-1])\n",
    "        else:\n",
    "            print(-1)"
   ]
  },
  {
   "cell_type": "code",
   "execution_count": 2,
   "id": "fee52835",
   "metadata": {},
   "outputs": [
    {
     "data": {
      "text/plain": [
       "[10, 1, 2, 3]"
      ]
     },
     "execution_count": 2,
     "metadata": {},
     "output_type": "execute_result"
    }
   ],
   "source": [
    "b = [1,2,3]\n",
    "\n",
    "b.insert(0,10)\n",
    "b"
   ]
  },
  {
   "cell_type": "code",
   "execution_count": null,
   "id": "7d627344",
   "metadata": {},
   "outputs": [],
   "source": []
  }
 ],
 "metadata": {
  "kernelspec": {
   "display_name": "Python 3 (ipykernel)",
   "language": "python",
   "name": "python3"
  },
  "language_info": {
   "codemirror_mode": {
    "name": "ipython",
    "version": 3
   },
   "file_extension": ".py",
   "mimetype": "text/x-python",
   "name": "python",
   "nbconvert_exporter": "python",
   "pygments_lexer": "ipython3",
   "version": "3.8.12"
  }
 },
 "nbformat": 4,
 "nbformat_minor": 5
}
