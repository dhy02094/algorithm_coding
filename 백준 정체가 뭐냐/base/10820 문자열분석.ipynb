{
 "cells": [
  {
   "cell_type": "code",
   "execution_count": 7,
   "id": "4476c530",
   "metadata": {},
   "outputs": [
    {
     "name": "stdout",
     "output_type": "stream",
     "text": [
      "SPACE    1    SPACE\n",
      "0 10 1 8\n",
      "0L1A2S3T4L5I6N7E8\n",
      "0 8 9 0\n",
      "\n"
     ]
    }
   ],
   "source": [
    "import sys\n",
    "\n",
    "while True:\n",
    "    line = sys.stdin.readline().rstrip('\\n')\n",
    "\n",
    "    if not line:\n",
    "        break\n",
    "\n",
    "    # 소문자, 대문자, 숫자, 공백\n",
    "    l, u, d, s = 0, 0, 0, 0\n",
    "    for each in line:\n",
    "        if each.islower():\n",
    "            l += 1\n",
    "        elif each.isupper():\n",
    "            u += 1\n",
    "        elif each.isdigit():\n",
    "            d += 1\n",
    "        elif each.isspace():\n",
    "            s += 1\n",
    "\n",
    "    print(l, u, d, s)"
   ]
  },
  {
   "cell_type": "code",
   "execution_count": null,
   "id": "53177e8c",
   "metadata": {},
   "outputs": [],
   "source": []
  }
 ],
 "metadata": {
  "kernelspec": {
   "display_name": "Python 3 (ipykernel)",
   "language": "python",
   "name": "python3"
  },
  "language_info": {
   "codemirror_mode": {
    "name": "ipython",
    "version": 3
   },
   "file_extension": ".py",
   "mimetype": "text/x-python",
   "name": "python",
   "nbconvert_exporter": "python",
   "pygments_lexer": "ipython3",
   "version": "3.8.12"
  }
 },
 "nbformat": 4,
 "nbformat_minor": 5
}
