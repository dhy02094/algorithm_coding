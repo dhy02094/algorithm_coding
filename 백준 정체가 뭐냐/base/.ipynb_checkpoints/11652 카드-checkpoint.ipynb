{
 "cells": [
  {
   "cell_type": "code",
   "execution_count": 3,
   "id": "5e141115",
   "metadata": {},
   "outputs": [
    {
     "name": "stdout",
     "output_type": "stream",
     "text": [
      "5\n",
      "1\n",
      "2\n",
      "1\n",
      "2\n",
      "1\n",
      "{1: 3, 2: 2}\n"
     ]
    }
   ],
   "source": [
    "n = int(input())\n",
    "card = {}\n",
    "for _ in range(n):\n",
    "    a = int(input())\n",
    "    if a in card:\n",
    "        card[a] += 1\n",
    "    else :\n",
    "        card[a] =1\n",
    "th = sorted(card.items(), key = lambda x :(-x[1],x[0]))\n",
    "print(th[0][0])\n",
    "\n",
    "    "
   ]
  },
  {
   "cell_type": "code",
   "execution_count": 12,
   "id": "ebc437f6",
   "metadata": {},
   "outputs": [],
   "source": [
    "th = sorted(card.items(), key = lambda x :-x[1])"
   ]
  },
  {
   "cell_type": "code",
   "execution_count": 15,
   "id": "a7a3093d",
   "metadata": {},
   "outputs": [
    {
     "name": "stdout",
     "output_type": "stream",
     "text": [
      "1\n"
     ]
    }
   ],
   "source": [
    "print(th[0][0])"
   ]
  },
  {
   "cell_type": "code",
   "execution_count": null,
   "id": "8ad1be12",
   "metadata": {},
   "outputs": [],
   "source": []
  }
 ],
 "metadata": {
  "kernelspec": {
   "display_name": "Python 3 (ipykernel)",
   "language": "python",
   "name": "python3"
  },
  "language_info": {
   "codemirror_mode": {
    "name": "ipython",
    "version": 3
   },
   "file_extension": ".py",
   "mimetype": "text/x-python",
   "name": "python",
   "nbconvert_exporter": "python",
   "pygments_lexer": "ipython3",
   "version": "3.8.12"
  }
 },
 "nbformat": 4,
 "nbformat_minor": 5
}
