{
 "cells": [
  {
   "cell_type": "markdown",
   "id": "9ef2f72a",
   "metadata": {},
   "source": [
    "실버4  \n",
    "https://www.acmicpc.net/problem/10825"
   ]
  },
  {
   "cell_type": "code",
   "execution_count": 1,
   "id": "69984f04",
   "metadata": {},
   "outputs": [
    {
     "name": "stdout",
     "output_type": "stream",
     "text": [
      "3\n",
      "th 50 60 100\n",
      "sw 10 12 300\n",
      "dw 30 20 300\n",
      "[['th', '50', '60', '100'], ['sw', '10', '12', '300'], ['dw', '30', '20', '300']]\n"
     ]
    }
   ],
   "source": [
    "n = int(input())\n",
    "a = []\n",
    "for _ in range(n):\n",
    "    a.append(list(map(str,input().split())))\n",
    "    a.sort(key=lambda x : (int(x[1]), -int(x[2]), int(x[3])))\n",
    "\n",
    "for i in a:\n",
    "    print(i[0])"
   ]
  },
  {
   "cell_type": "code",
   "execution_count": 4,
   "id": "27940b6f",
   "metadata": {},
   "outputs": [],
   "source": [
    "a.sort(key=lambda x : (int(x[1]), -int(x[2]), int(x[3])))"
   ]
  },
  {
   "cell_type": "code",
   "execution_count": null,
   "id": "a77efe29",
   "metadata": {},
   "outputs": [],
   "source": []
  }
 ],
 "metadata": {
  "kernelspec": {
   "display_name": "Python 3 (ipykernel)",
   "language": "python",
   "name": "python3"
  },
  "language_info": {
   "codemirror_mode": {
    "name": "ipython",
    "version": 3
   },
   "file_extension": ".py",
   "mimetype": "text/x-python",
   "name": "python",
   "nbconvert_exporter": "python",
   "pygments_lexer": "ipython3",
   "version": "3.8.12"
  }
 },
 "nbformat": 4,
 "nbformat_minor": 5
}
