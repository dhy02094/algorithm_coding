{
 "cells": [
  {
   "cell_type": "code",
   "execution_count": 7,
   "id": "3e9ff8bd",
   "metadata": {},
   "outputs": [
    {
     "name": "stdout",
     "output_type": "stream",
     "text": [
      "11001100\n"
     ]
    },
    {
     "data": {
      "text/plain": [
       "'314'"
      ]
     },
     "execution_count": 7,
     "metadata": {},
     "output_type": "execute_result"
    }
   ],
   "source": [
    "n = input()\n",
    "ten = 0\n",
    "\n",
    "for i in range(len(n)-1,-1,-1):\n",
    "    tmp = int(n[i]) * (2**(len(n)-i-1))\n",
    "    ten += tmp\n",
    "a = ''\n",
    "while 1:\n",
    "    if ten == 0:\n",
    "        break\n",
    "    a += str(ten%8)\n",
    "    ten = ten // 8\n",
    "a = a[::-1]\n",
    "print(a)"
   ]
  },
  {
   "cell_type": "markdown",
   "id": "cc6a6496",
   "metadata": {},
   "source": [
    "ㄴ 시간초과"
   ]
  },
  {
   "cell_type": "code",
   "execution_count": 11,
   "id": "da254f46",
   "metadata": {},
   "outputs": [
    {
     "name": "stdout",
     "output_type": "stream",
     "text": [
      "11001100\n",
      "314\n"
     ]
    }
   ],
   "source": [
    "n = int(input(), 2)\n",
    "print(oct(n)[2:])"
   ]
  },
  {
   "cell_type": "markdown",
   "id": "7e79c79d",
   "metadata": {},
   "source": [
    "ㄴ 개사기"
   ]
  },
  {
   "cell_type": "code",
   "execution_count": null,
   "id": "f66dd032",
   "metadata": {},
   "outputs": [],
   "source": []
  }
 ],
 "metadata": {
  "kernelspec": {
   "display_name": "Python 3 (ipykernel)",
   "language": "python",
   "name": "python3"
  },
  "language_info": {
   "codemirror_mode": {
    "name": "ipython",
    "version": 3
   },
   "file_extension": ".py",
   "mimetype": "text/x-python",
   "name": "python",
   "nbconvert_exporter": "python",
   "pygments_lexer": "ipython3",
   "version": "3.8.12"
  }
 },
 "nbformat": 4,
 "nbformat_minor": 5
}
