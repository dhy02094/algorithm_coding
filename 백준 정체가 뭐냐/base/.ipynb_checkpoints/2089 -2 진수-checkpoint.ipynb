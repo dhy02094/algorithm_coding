{
 "cells": [
  {
   "cell_type": "code",
   "execution_count": 11,
   "id": "34b28018",
   "metadata": {},
   "outputs": [
    {
     "name": "stdout",
     "output_type": "stream",
     "text": [
      "-13\n",
      "111011\n"
     ]
    }
   ],
   "source": [
    "n = int(input())\n",
    "ans = ''\n",
    "if n == 0 :\n",
    "    print(0)\n",
    "    exit()\n",
    "while n != 0:\n",
    "    if n%-2:\n",
    "        n = n//-2 + 1\n",
    "        ans = '1' + ans\n",
    "    else :\n",
    "        n//=-2\n",
    "        ans ='0' + ans\n",
    "print(int(ans))"
   ]
  },
  {
   "cell_type": "code",
   "execution_count": 1,
   "id": "a680138e",
   "metadata": {},
   "outputs": [
    {
     "data": {
      "text/plain": [
       "-1"
      ]
     },
     "execution_count": 1,
     "metadata": {},
     "output_type": "execute_result"
    }
   ],
   "source": [
    "-13 % -2 "
   ]
  },
  {
   "cell_type": "code",
   "execution_count": 3,
   "id": "a5564ccc",
   "metadata": {},
   "outputs": [
    {
     "data": {
      "text/plain": [
       "-1"
      ]
     },
     "execution_count": 3,
     "metadata": {},
     "output_type": "execute_result"
    }
   ],
   "source": [
    "7 % -2"
   ]
  },
  {
   "cell_type": "code",
   "execution_count": 6,
   "id": "37b9a873",
   "metadata": {},
   "outputs": [
    {
     "data": {
      "text/plain": [
       "0"
      ]
     },
     "execution_count": 6,
     "metadata": {},
     "output_type": "execute_result"
    }
   ],
   "source": [
    "2 %-2"
   ]
  },
  {
   "cell_type": "markdown",
   "id": "97e795f5",
   "metadata": {},
   "source": []
  }
 ],
 "metadata": {
  "kernelspec": {
   "display_name": "Python 3 (ipykernel)",
   "language": "python",
   "name": "python3"
  },
  "language_info": {
   "codemirror_mode": {
    "name": "ipython",
    "version": 3
   },
   "file_extension": ".py",
   "mimetype": "text/x-python",
   "name": "python",
   "nbconvert_exporter": "python",
   "pygments_lexer": "ipython3",
   "version": "3.8.12"
  }
 },
 "nbformat": 4,
 "nbformat_minor": 5
}
