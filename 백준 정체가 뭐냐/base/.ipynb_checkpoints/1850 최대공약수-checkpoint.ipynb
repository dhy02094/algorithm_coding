{
 "cells": [
  {
   "cell_type": "code",
   "execution_count": 7,
   "id": "e7fc5e8a",
   "metadata": {},
   "outputs": [
    {
     "name": "stdout",
     "output_type": "stream",
     "text": [
      "3 6\n",
      "111\n"
     ]
    }
   ],
   "source": [
    "def gcd(x,y):\n",
    "    while y > 0:\n",
    "        x, y = y, x%y\n",
    "    return x\n",
    "\n",
    "\n",
    "a, b = map(int, input().split())\n",
    "\n",
    "print('1'*gcd(a,b))"
   ]
  },
  {
   "cell_type": "code",
   "execution_count": null,
   "id": "99b8cc9b",
   "metadata": {},
   "outputs": [],
   "source": []
  }
 ],
 "metadata": {
  "kernelspec": {
   "display_name": "Python 3 (ipykernel)",
   "language": "python",
   "name": "python3"
  },
  "language_info": {
   "codemirror_mode": {
    "name": "ipython",
    "version": 3
   },
   "file_extension": ".py",
   "mimetype": "text/x-python",
   "name": "python",
   "nbconvert_exporter": "python",
   "pygments_lexer": "ipython3",
   "version": "3.8.12"
  }
 },
 "nbformat": 4,
 "nbformat_minor": 5
}
