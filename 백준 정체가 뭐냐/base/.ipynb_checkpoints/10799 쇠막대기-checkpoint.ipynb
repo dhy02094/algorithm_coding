{
 "cells": [
  {
   "cell_type": "code",
   "execution_count": 4,
   "id": "2cb59d47",
   "metadata": {},
   "outputs": [
    {
     "name": "stdout",
     "output_type": "stream",
     "text": [
      "(((()(()()))(())()))(()())\n",
      "24\n"
     ]
    }
   ],
   "source": [
    "a = list(input())\n",
    "stack = []\n",
    "cnt = 0\n",
    "for i in range(len(a)):\n",
    "    if a[i]=='(':\n",
    "        stack.append(a[i])\n",
    "    else:\n",
    "        stack.pop()\n",
    "        if a[i-1]=='(':\n",
    "            cnt += len(stack)\n",
    "        else :\n",
    "            cnt += 1\n",
    "print(cnt)"
   ]
  },
  {
   "cell_type": "code",
   "execution_count": null,
   "id": "efefcff4",
   "metadata": {},
   "outputs": [],
   "source": []
  }
 ],
 "metadata": {
  "kernelspec": {
   "display_name": "Python 3 (ipykernel)",
   "language": "python",
   "name": "python3"
  },
  "language_info": {
   "codemirror_mode": {
    "name": "ipython",
    "version": 3
   },
   "file_extension": ".py",
   "mimetype": "text/x-python",
   "name": "python",
   "nbconvert_exporter": "python",
   "pygments_lexer": "ipython3",
   "version": "3.8.12"
  }
 },
 "nbformat": 4,
 "nbformat_minor": 5
}
