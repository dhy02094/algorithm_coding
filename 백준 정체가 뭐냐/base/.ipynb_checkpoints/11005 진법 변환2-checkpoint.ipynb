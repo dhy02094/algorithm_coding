{
 "cells": [
  {
   "cell_type": "code",
   "execution_count": null,
   "id": "f349c2aa",
   "metadata": {},
   "outputs": [],
   "source": [
    "n, b = map(int, input().split())\n",
    "\n",
    "tmp = '0123456789ABCDEFGHIJKLMNOPQRSTUVWXYZ'\n",
    "\n",
    "answer = ''\n",
    "\n",
    "while n != 0 :\n",
    "    answer += str(tmp[n%b])\n",
    "    n = n//b\n",
    "    \n",
    "print(answer[::-1])"
   ]
  },
  {
   "cell_type": "code",
   "execution_count": 13,
   "id": "c91a26bd",
   "metadata": {},
   "outputs": [
    {
     "name": "stdout",
     "output_type": "stream",
     "text": [
      "5 2\n",
      "101"
     ]
    }
   ],
   "source": [
    "def th(x,v):\n",
    "    if x == 0:\n",
    "        return\n",
    "    else:\n",
    "        th(x//v,v)\n",
    "        print(str(tmp[x%v]), end= '')\n",
    "    \n",
    "    \n",
    "\n",
    "n, b = map(int, input().split())\n",
    "\n",
    "tmp = '0123456789ABCDEFGHIJKLMNOPQRSTUVWXYZ'\n",
    "\n",
    "th(n,b)\n",
    "\n"
   ]
  },
  {
   "cell_type": "code",
   "execution_count": null,
   "id": "094a8641",
   "metadata": {},
   "outputs": [],
   "source": []
  }
 ],
 "metadata": {
  "kernelspec": {
   "display_name": "Python 3 (ipykernel)",
   "language": "python",
   "name": "python3"
  },
  "language_info": {
   "codemirror_mode": {
    "name": "ipython",
    "version": 3
   },
   "file_extension": ".py",
   "mimetype": "text/x-python",
   "name": "python",
   "nbconvert_exporter": "python",
   "pygments_lexer": "ipython3",
   "version": "3.8.12"
  }
 },
 "nbformat": 4,
 "nbformat_minor": 5
}
