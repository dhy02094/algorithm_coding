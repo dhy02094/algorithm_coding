{
 "cells": [
  {
   "cell_type": "markdown",
   "id": "611f059f",
   "metadata": {},
   "source": [
    "# 시간초과"
   ]
  },
  {
   "cell_type": "code",
   "execution_count": 42,
   "id": "7522adc6",
   "metadata": {},
   "outputs": [
    {
     "name": "stdout",
     "output_type": "stream",
     "text": [
      "abc\n",
      "9\n",
      "L\n",
      "L\n",
      "L\n",
      "L\n",
      "L\n",
      "P x\n",
      "L\n",
      "B\n",
      "P y\n",
      "yxabc"
     ]
    }
   ],
   "source": [
    "from collections import deque\n",
    "text = list(input())\n",
    "Q = deque(text)\n",
    "m = int(input())\n",
    "task = []\n",
    "for _ in range(m):\n",
    "    task.append(list(map(str, input().split())))\n",
    "p = len(Q)\n",
    "\n",
    "for i in task:\n",
    "    if i[0]=='P':\n",
    "        Q.insert(p,i[1])\n",
    "        p+=1\n",
    "    elif i[0]=='L':\n",
    "        if p!=0:\n",
    "            p-=1\n",
    "            \n",
    "    elif i[0] =='D':\n",
    "        if p != len(Q):\n",
    "            p+=1\n",
    "    else:\n",
    "        if p != 0 :\n",
    "            p -= 1\n",
    "            Q.remove(Q[p])\n",
    "for i in Q:\n",
    "    print(i,end='')"
   ]
  },
  {
   "cell_type": "markdown",
   "id": "d8f9ffe6",
   "metadata": {},
   "source": [
    "# 다른 풀이"
   ]
  },
  {
   "cell_type": "code",
   "execution_count": 45,
   "id": "642ac074",
   "metadata": {},
   "outputs": [
    {
     "name": "stdout",
     "output_type": "stream",
     "text": [
      "dmih\n",
      "11\n",
      "B\n",
      "B\n",
      "P x\n",
      "L\n",
      "B\n",
      "B\n",
      "B\n",
      "P y\n",
      "D\n",
      "D\n",
      "P z\n",
      "yxz\n"
     ]
    }
   ],
   "source": [
    "st1 = list(input())\n",
    "st2 = []\n",
    "\n",
    "for _ in range(int(input())):\n",
    "    command = list(map(str, input().split()))\n",
    "    if command[0]=='L':\n",
    "        if st1:\n",
    "            st2.append(st1.pop())\n",
    "    elif command[0]=='D':\n",
    "        if st2:\n",
    "            st1.append(st2.pop())\n",
    "    elif command[0]=='B':\n",
    "        if st1:\n",
    "            st1.pop()\n",
    "    else:\n",
    "        st1.append(command[1])\n",
    "st1.extend(reversed(st2))\n",
    "print(''.join(st1))"
   ]
  },
  {
   "cell_type": "code",
   "execution_count": null,
   "id": "3848d94d",
   "metadata": {},
   "outputs": [],
   "source": []
  }
 ],
 "metadata": {
  "kernelspec": {
   "display_name": "Python 3 (ipykernel)",
   "language": "python",
   "name": "python3"
  },
  "language_info": {
   "codemirror_mode": {
    "name": "ipython",
    "version": 3
   },
   "file_extension": ".py",
   "mimetype": "text/x-python",
   "name": "python",
   "nbconvert_exporter": "python",
   "pygments_lexer": "ipython3",
   "version": "3.8.12"
  }
 },
 "nbformat": 4,
 "nbformat_minor": 5
}
