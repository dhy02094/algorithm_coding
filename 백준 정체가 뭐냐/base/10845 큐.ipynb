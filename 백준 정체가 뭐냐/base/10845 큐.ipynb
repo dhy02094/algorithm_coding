{
 "cells": [
  {
   "cell_type": "code",
   "execution_count": 2,
   "id": "a2483f92",
   "metadata": {},
   "outputs": [
    {
     "name": "stdout",
     "output_type": "stream",
     "text": [
      "15\n",
      "push 1\n",
      "push 2\n",
      "front\n",
      "back\n",
      "size\n",
      "empty\n",
      "pop\n",
      "pop\n",
      "pop\n",
      "size\n",
      "empty\n",
      "pop\n",
      "push 3\n",
      "empty\n",
      "front\n",
      "1\n",
      "2\n",
      "2\n",
      "0\n",
      "1\n",
      "2\n",
      "-1\n",
      "0\n",
      "1\n",
      "-1\n",
      "0\n",
      "3\n"
     ]
    }
   ],
   "source": [
    "from collections import deque\n",
    "n = int(input())\n",
    "Q = deque()\n",
    "a = []\n",
    "for _ in range(n):\n",
    "    a.append(list(map(str,input().split())))\n",
    "\n",
    "for i in a:\n",
    "    if i[0]=='push':\n",
    "        Q.append(int(i[1]))\n",
    "    elif i[0]=='pop':\n",
    "        if Q:\n",
    "            print(Q.popleft())\n",
    "        else:\n",
    "            print(-1)\n",
    "    elif i[0]=='size':\n",
    "        print(len(Q))\n",
    "    elif i[0] =='empty':\n",
    "        if Q:\n",
    "            print(0)\n",
    "        else:\n",
    "            print(1)\n",
    "    elif i[0]=='front':\n",
    "        if Q:\n",
    "            print(Q[0])\n",
    "        else:\n",
    "            print(-1)\n",
    "    elif i[0]=='back':\n",
    "        if Q:\n",
    "            print(Q[-1])\n",
    "        else:\n",
    "            print(-1)\n",
    "        "
   ]
  },
  {
   "cell_type": "markdown",
   "id": "559dbfb8",
   "metadata": {},
   "source": [
    "- 인프런 강의 7-17\n",
    "- 백준 - 10825, 11652, 11004, 10828, 9012, 10799, 10845"
   ]
  }
 ],
 "metadata": {
  "kernelspec": {
   "display_name": "Python 3 (ipykernel)",
   "language": "python",
   "name": "python3"
  },
  "language_info": {
   "codemirror_mode": {
    "name": "ipython",
    "version": 3
   },
   "file_extension": ".py",
   "mimetype": "text/x-python",
   "name": "python",
   "nbconvert_exporter": "python",
   "pygments_lexer": "ipython3",
   "version": "3.8.12"
  }
 },
 "nbformat": 4,
 "nbformat_minor": 5
}
