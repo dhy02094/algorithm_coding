{
 "cells": [
  {
   "cell_type": "code",
   "execution_count": 15,
   "id": "46c2543e",
   "metadata": {},
   "outputs": [
    {
     "name": "stdout",
     "output_type": "stream",
     "text": [
      "baekjoon\n",
      "1 1 0 0 1 0 0 0 0 1 1 0 0 1 2 0 0 0 0 0 0 0 0 0 0 0 "
     ]
    }
   ],
   "source": [
    "\n",
    "a = list(input().upper())\n",
    "dict = {}\n",
    "for i in range(65,91):\n",
    "    dict[chr(i)] = 0\n",
    "\n",
    "for i in a:\n",
    "    dict[i] += 1\n",
    "\n",
    "for idx,v in dict.items():\n",
    "    print(v, end=' ')\n",
    "    "
   ]
  },
  {
   "cell_type": "code",
   "execution_count": null,
   "id": "65a9a3d4",
   "metadata": {},
   "outputs": [],
   "source": []
  }
 ],
 "metadata": {
  "kernelspec": {
   "display_name": "Python 3 (ipykernel)",
   "language": "python",
   "name": "python3"
  },
  "language_info": {
   "codemirror_mode": {
    "name": "ipython",
    "version": 3
   },
   "file_extension": ".py",
   "mimetype": "text/x-python",
   "name": "python",
   "nbconvert_exporter": "python",
   "pygments_lexer": "ipython3",
   "version": "3.8.12"
  }
 },
 "nbformat": 4,
 "nbformat_minor": 5
}
