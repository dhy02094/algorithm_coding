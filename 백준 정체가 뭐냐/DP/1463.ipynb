{
 "cells": [
  {
   "cell_type": "code",
   "execution_count": 15,
   "id": "9b6d5bd2",
   "metadata": {},
   "outputs": [
    {
     "name": "stdout",
     "output_type": "stream",
     "text": [
      "10\n",
      "3\n"
     ]
    }
   ],
   "source": [
    "n = int(input())\n",
    "dp = [0] * (n+1)\n",
    "\n",
    "dp[2] = 1\n",
    "dp[3] = 1\n",
    "\n",
    "for i in range(4,n+1):\n",
    "    dp[i] = dp[i-1] + 1\n",
    "    if i%3==0:\n",
    "        dp[i] = min(dp[i],dp[i//3]+1)\n",
    "    if i%2==0:\n",
    "        dp[i] = min(dp[i],dp[i//2]+1)\n",
    "print(dp[n])\n",
    "    "
   ]
  },
  {
   "cell_type": "code",
   "execution_count": null,
   "id": "2df42332",
   "metadata": {},
   "outputs": [],
   "source": []
  }
 ],
 "metadata": {
  "kernelspec": {
   "display_name": "Python 3 (ipykernel)",
   "language": "python",
   "name": "python3"
  },
  "language_info": {
   "codemirror_mode": {
    "name": "ipython",
    "version": 3
   },
   "file_extension": ".py",
   "mimetype": "text/x-python",
   "name": "python",
   "nbconvert_exporter": "python",
   "pygments_lexer": "ipython3",
   "version": "3.8.12"
  }
 },
 "nbformat": 4,
 "nbformat_minor": 5
}
