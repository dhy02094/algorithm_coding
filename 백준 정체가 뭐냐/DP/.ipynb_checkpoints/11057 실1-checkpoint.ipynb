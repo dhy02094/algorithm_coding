{
 "cells": [
  {
   "cell_type": "code",
   "execution_count": 25,
   "id": "58a91c28",
   "metadata": {},
   "outputs": [
    {
     "name": "stdout",
     "output_type": "stream",
     "text": [
      "3\n",
      "220\n"
     ]
    }
   ],
   "source": [
    "n = int(input())\n",
    "\n",
    "dp = [[0]*10 for _ in range(n+1)]\n",
    "\n",
    "for i in range(10):\n",
    "    dp[1][i] = 10-i\n",
    "\n",
    "for i in range(2,n+1):\n",
    "    for j in range(10):\n",
    "        dp[i][j] = sum(dp[i-1][j:])\n",
    "print(dp[n][0]%10007)"
   ]
  },
  {
   "cell_type": "markdown",
   "id": "4712589c",
   "metadata": {},
   "source": [
    "하 시간 개 많이 걸렸는데 값지다.\n"
   ]
  },
  {
   "cell_type": "code",
   "execution_count": null,
   "id": "f551601e",
   "metadata": {},
   "outputs": [],
   "source": []
  }
 ],
 "metadata": {
  "kernelspec": {
   "display_name": "Python 3 (ipykernel)",
   "language": "python",
   "name": "python3"
  },
  "language_info": {
   "codemirror_mode": {
    "name": "ipython",
    "version": 3
   },
   "file_extension": ".py",
   "mimetype": "text/x-python",
   "name": "python",
   "nbconvert_exporter": "python",
   "pygments_lexer": "ipython3",
   "version": "3.8.12"
  }
 },
 "nbformat": 4,
 "nbformat_minor": 5
}
