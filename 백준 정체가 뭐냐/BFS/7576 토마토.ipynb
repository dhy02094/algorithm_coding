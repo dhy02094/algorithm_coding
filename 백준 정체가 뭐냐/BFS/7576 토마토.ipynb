{
 "cells": [
  {
   "cell_type": "markdown",
   "id": "c17e6dfe",
   "metadata": {},
   "source": [
    "골5\n",
    "https://www.acmicpc.net/problem/7576"
   ]
  },
  {
   "cell_type": "code",
   "execution_count": 9,
   "id": "d1a6d621",
   "metadata": {},
   "outputs": [
    {
     "name": "stdout",
     "output_type": "stream",
     "text": [
      "2 2\n",
      "1 -1\n",
      "-1 1\n",
      "0\n"
     ]
    }
   ],
   "source": [
    "from collections import deque\n",
    "\n",
    "dx = [-1,0,1,0]\n",
    "dy = [0,1,0,-1]\n",
    "\n",
    "m, n = map(int, input().split())\n",
    "box = [list(map(int, input().split())) for _ in range(n)]\n",
    "day = [[0]*m for _ in range(n)]\n",
    "Q = deque()\n",
    "\n",
    "for i in range(n):\n",
    "    for j in range(m):\n",
    "        if box[i][j] == 1:\n",
    "            Q.append((i,j))\n",
    "\n",
    "while Q:\n",
    "    tmp = Q.popleft()\n",
    "    for k in range(4):\n",
    "        x = tmp[0] + dx[k]\n",
    "        y = tmp[1] + dy[k]\n",
    "        if 0<=x<n and 0<=y<m and box[x][y] == 0:\n",
    "            box[x][y] = 1\n",
    "            day[x][y] = day[tmp[0]][tmp[1]] + 1\n",
    "            Q.append((x,y))\n",
    "\n",
    "flag = 1\n",
    "\n",
    "for i in range(n):\n",
    "    for j in range(m):\n",
    "        if box[i][j] == 0:\n",
    "            flag = 0\n",
    "result = 0\n",
    "if flag == 1:\n",
    "    for i in range(n):\n",
    "        for j in range(m):\n",
    "            if day[i][j] > result:\n",
    "                result = day[i][j]\n",
    "    print(result)\n",
    "else :\n",
    "    print(-1)\n",
    "    \n",
    "            "
   ]
  },
  {
   "cell_type": "code",
   "execution_count": 3,
   "id": "1feb0078",
   "metadata": {},
   "outputs": [
    {
     "name": "stdout",
     "output_type": "stream",
     "text": [
      "[[8, 7, 6, 5, 4, 3], [7, 6, 5, 4, 3, 2], [6, 5, 4, 3, 2, 1], [5, 4, 3, 2, 1, 0]]\n"
     ]
    }
   ],
   "source": [
    "print(day)"
   ]
  },
  {
   "cell_type": "code",
   "execution_count": null,
   "id": "39329e55",
   "metadata": {},
   "outputs": [],
   "source": []
  }
 ],
 "metadata": {
  "kernelspec": {
   "display_name": "Python 3 (ipykernel)",
   "language": "python",
   "name": "python3"
  },
  "language_info": {
   "codemirror_mode": {
    "name": "ipython",
    "version": 3
   },
   "file_extension": ".py",
   "mimetype": "text/x-python",
   "name": "python",
   "nbconvert_exporter": "python",
   "pygments_lexer": "ipython3",
   "version": "3.8.12"
  }
 },
 "nbformat": 4,
 "nbformat_minor": 5
}
