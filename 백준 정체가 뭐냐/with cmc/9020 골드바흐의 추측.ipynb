{
 "cells": [
  {
   "cell_type": "markdown",
   "id": "5504d067",
   "metadata": {},
   "source": [
    "실버2\n",
    "https://www.acmicpc.net/problem/9020"
   ]
  },
  {
   "cell_type": "code",
   "execution_count": 22,
   "id": "0507cf77",
   "metadata": {},
   "outputs": [
    {
     "name": "stdout",
     "output_type": "stream",
     "text": [
      "3\n",
      "10\n",
      "5 5\n",
      "8\n",
      "3 5\n",
      "26\n",
      "13 13\n"
     ]
    }
   ],
   "source": [
    "prime_list = [False, False] + [True]*10002\n",
    "\n",
    "for i in range(2,10002):\n",
    "    if prime_list[i]:\n",
    "        for j in range(i+i,10002,i):\n",
    "            prime_list[j]=False\n",
    "        \n",
    "\n",
    "t = int(input())\n",
    "for _ in range(t):\n",
    "    n = int(input())    \n",
    "    a = n//2\n",
    "    b = a\n",
    "    while 1:\n",
    "        if prime_list[a] and prime_list[b]:\n",
    "            print(a,b)\n",
    "            break\n",
    "        else:\n",
    "            a-=1\n",
    "            b+=1"
   ]
  },
  {
   "cell_type": "markdown",
   "id": "5121f519",
   "metadata": {},
   "source": [
    "2 중 포문 쓰면 틀림"
   ]
  },
  {
   "cell_type": "code",
   "execution_count": null,
   "id": "3d09b979",
   "metadata": {},
   "outputs": [],
   "source": []
  }
 ],
 "metadata": {
  "kernelspec": {
   "display_name": "Python 3 (ipykernel)",
   "language": "python",
   "name": "python3"
  },
  "language_info": {
   "codemirror_mode": {
    "name": "ipython",
    "version": 3
   },
   "file_extension": ".py",
   "mimetype": "text/x-python",
   "name": "python",
   "nbconvert_exporter": "python",
   "pygments_lexer": "ipython3",
   "version": "3.8.12"
  }
 },
 "nbformat": 4,
 "nbformat_minor": 5
}
