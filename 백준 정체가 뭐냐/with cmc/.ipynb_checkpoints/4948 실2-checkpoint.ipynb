{
 "cells": [
  {
   "cell_type": "markdown",
   "id": "1ab29392",
   "metadata": {},
   "source": [
    "베르트랑 공준 실버2"
   ]
  },
  {
   "cell_type": "code",
   "execution_count": 19,
   "id": "eaa34102",
   "metadata": {},
   "outputs": [
    {
     "name": "stdout",
     "output_type": "stream",
     "text": [
      "1\n",
      "1\n",
      "10\n",
      "4\n",
      "13\n",
      "3\n",
      "100\n",
      "21\n",
      "1000\n",
      "135\n",
      "10000\n",
      "1033\n",
      "100000\n",
      "8392\n",
      "0\n"
     ]
    }
   ],
   "source": [
    "def prime_list(n):\n",
    "    prime = [True] * (n+1)\n",
    "    prime[0] = [False]\n",
    "    prime[1] = [False]\n",
    "    if n<=3 :\n",
    "        return [i for i in range(n+1) if prime[i]==True]\n",
    "    else :\n",
    "        for i in range(2, int(n**0.5)+1):\n",
    "            if prime[i] == True:\n",
    "                for j in range(i+i,n+1,i):\n",
    "                    prime[j] = False\n",
    "        return [i for i in range(n+1) if prime[i]==True]\n",
    "\n",
    "while 1:\n",
    "    n = int(input())\n",
    "    if n == 0:\n",
    "        break\n",
    "    print(len(prime_list(2*n)) - len(prime_list(n)))\n",
    "                "
   ]
  },
  {
   "cell_type": "code",
   "execution_count": 17,
   "id": "528310be",
   "metadata": {},
   "outputs": [
    {
     "data": {
      "text/plain": [
       "[2, 3, 5, 7, 11, 13]"
      ]
     },
     "execution_count": 17,
     "metadata": {},
     "output_type": "execute_result"
    }
   ],
   "source": [
    "prime_list(16)"
   ]
  }
 ],
 "metadata": {
  "kernelspec": {
   "display_name": "Python 3 (ipykernel)",
   "language": "python",
   "name": "python3"
  },
  "language_info": {
   "codemirror_mode": {
    "name": "ipython",
    "version": 3
   },
   "file_extension": ".py",
   "mimetype": "text/x-python",
   "name": "python",
   "nbconvert_exporter": "python",
   "pygments_lexer": "ipython3",
   "version": "3.8.12"
  }
 },
 "nbformat": 4,
 "nbformat_minor": 5
}
