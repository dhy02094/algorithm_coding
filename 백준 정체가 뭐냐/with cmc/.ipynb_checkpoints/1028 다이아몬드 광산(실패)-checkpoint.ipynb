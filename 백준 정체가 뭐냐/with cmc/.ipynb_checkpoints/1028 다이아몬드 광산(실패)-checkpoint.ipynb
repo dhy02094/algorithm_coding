{
 "cells": [
  {
   "cell_type": "markdown",
   "id": "ab41fa2b",
   "metadata": {},
   "source": [
    "https://www.acmicpc.net/problem/1028\n",
    "플레5"
   ]
  },
  {
   "cell_type": "code",
   "execution_count": 7,
   "id": "a3df4305",
   "metadata": {},
   "outputs": [
    {
     "name": "stdout",
     "output_type": "stream",
     "text": [
      "5 5\n",
      "01100\n",
      "01011\n",
      "11111\n",
      "01111\n",
      "11111\n",
      "5 5 [['0', '1', '1', '0', '0'], ['0', '1', '0', '1', '1'], ['1', '1', '1', '1', '1'], ['0', '1', '1', '1', '1'], ['1', '1', '1', '1', '1']]\n"
     ]
    }
   ],
   "source": [
    "r, c = map(int, input().split())\n",
    "board = [list(input()) for _ in range(r)]\n",
    "print(r,c,board)"
   ]
  },
  {
   "cell_type": "code",
   "execution_count": 9,
   "id": "ea205377",
   "metadata": {},
   "outputs": [],
   "source": [
    "for i in range(r):\n",
    "    for j in range(c):\n",
    "        board[i][j] = int(board[i][j])\n",
    "        "
   ]
  },
  {
   "cell_type": "code",
   "execution_count": 11,
   "id": "43eb8ac4",
   "metadata": {},
   "outputs": [
    {
     "data": {
      "text/plain": [
       "[[0, 1, 1, 0, 0],\n",
       " [0, 1, 0, 1, 1],\n",
       " [1, 1, 1, 1, 1],\n",
       " [0, 1, 1, 1, 1],\n",
       " [1, 1, 1, 1, 1]]"
      ]
     },
     "execution_count": 11,
     "metadata": {},
     "output_type": "execute_result"
    }
   ],
   "source": [
    "board"
   ]
  },
  {
   "cell_type": "code",
   "execution_count": 36,
   "id": "45cc037d",
   "metadata": {},
   "outputs": [],
   "source": [
    "dp = [[[0]*2 for _ in range(c)] for _ in range(r)]"
   ]
  },
  {
   "cell_type": "code",
   "execution_count": 42,
   "id": "71b2ebb8",
   "metadata": {},
   "outputs": [
    {
     "data": {
      "text/plain": [
       "[[0, 1, 1, 0, 0],\n",
       " [0, 1, 0, 1, 1],\n",
       " [1, 1, 1, 1, 1],\n",
       " [0, 1, 1, 1, 1],\n",
       " [1, 1, 1, 1, 1]]"
      ]
     },
     "execution_count": 42,
     "metadata": {},
     "output_type": "execute_result"
    }
   ],
   "source": [
    "board"
   ]
  },
  {
   "cell_type": "code",
   "execution_count": 81,
   "id": "33e9597f",
   "metadata": {},
   "outputs": [
    {
     "name": "stdout",
     "output_type": "stream",
     "text": [
      "5 5\n",
      "01100\n",
      "01011\n",
      "11111\n",
      "01111\n",
      "11111\n",
      "3\n"
     ]
    }
   ],
   "source": [
    "r, c = map(int, input().split())\n",
    "board = [list(input()) for _ in range(r)]\n",
    "\n",
    "for i in range(r):\n",
    "    for j in range(c):\n",
    "        board[i][j] = int(board[i][j])\n",
    "\n",
    "dp = [[[0]*2 for _ in range(c)] for _ in range(r)]\n",
    "for i in range(r):\n",
    "    for j in range(c):\n",
    "        if board[i][j] == 1:\n",
    "            a,b = i,j\n",
    "            left = 1\n",
    "            while 0<=a<r and 0<=b<c and board[a][b]==1 and dp[a][b][0] == 0 :\n",
    "                a+=1 ; b-=1 ; left += 1\n",
    "            left-=1\n",
    "            \n",
    "            a,b = i,j\n",
    "            right = 1\n",
    "            while 0<=a<r and 0<=b<c and board[a][b]==1 and dp[a][b][1] == 0 :\n",
    "                a+=1 ; b+=1 ; right += 1\n",
    "            right -= 1\n",
    "            dp[i][j][0] = left\n",
    "            dp[i][j][1] = right\n",
    "            left -=1 ; right -= 1\n",
    "            \n",
    "rlt = 0\n",
    "for i in range(r):\n",
    "    for j in range(c):\n",
    "        lpt = dp[i][j][0]\n",
    "        rpt = dp[i][j][1]\n",
    "        smallpt = min(lpt,rpt)-1\n",
    "        if smallpt > 0:\n",
    "            if dp[i+smallpt][j-smallpt][1]==smallpt+1 and dp[i+smallpt][j+smallpt][0]==smallpt+1:\n",
    "                if rlt<smallpt+1:\n",
    "                    rlt=smallpt+1\n",
    "print(rlt)"
   ]
  },
  {
   "cell_type": "code",
   "execution_count": 82,
   "id": "16edbf54",
   "metadata": {},
   "outputs": [
    {
     "data": {
      "text/plain": [
       "[[[0, 0], [1, 1], [3, 3], [0, 0], [0, 0]],\n",
       " [[0, 0], [2, 4], [0, 0], [4, 2], [4, 1]],\n",
       " [[1, 3], [1, 3], [3, 3], [3, 2], [3, 1]],\n",
       " [[0, 0], [2, 2], [2, 2], [2, 2], [2, 1]],\n",
       " [[1, 1], [1, 1], [1, 1], [1, 1], [1, 1]]]"
      ]
     },
     "execution_count": 82,
     "metadata": {},
     "output_type": "execute_result"
    }
   ],
   "source": [
    "dp"
   ]
  },
  {
   "cell_type": "code",
   "execution_count": null,
   "id": "ae419429",
   "metadata": {},
   "outputs": [],
   "source": []
  }
 ],
 "metadata": {
  "kernelspec": {
   "display_name": "Python 3 (ipykernel)",
   "language": "python",
   "name": "python3"
  },
  "language_info": {
   "codemirror_mode": {
    "name": "ipython",
    "version": 3
   },
   "file_extension": ".py",
   "mimetype": "text/x-python",
   "name": "python",
   "nbconvert_exporter": "python",
   "pygments_lexer": "ipython3",
   "version": "3.8.12"
  }
 },
 "nbformat": 4,
 "nbformat_minor": 5
}
