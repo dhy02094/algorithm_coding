{
 "cells": [
  {
   "cell_type": "markdown",
   "id": "ae3f0408",
   "metadata": {},
   "source": [
    "### Q5 (https://www.acmicpc.net/problem/18310)\n",
    "\n",
    "### 일직선 상의 마을에 여러 채의 집이 위치해 있다. 이중에서 특정 위치의 집에 특별히 한 개의 안테나를 설치하기로 결정했다. 효율성을 위해 안테나로부터 모든 집까지의 거리의 총 합이 최소가 되도록 설치하려고 한다. 이 때 안테나는 집이 위치한 곳에만 설치할 수 있고, 논리적으로 동일한 위치에 여러 개의 집이 존재하는 것이 가능하다.\n",
    "### 집들의 위치 값이 주어질 때, 안테나를 설치할 위치를 선택하는 프로그램을 작성하시오.\n",
    "### 예를 들어 N=4이고, 각 위치가 1, 5, 7, 9일 때를 가정하자.\n",
    "\n",
    "<img src=\"preview.jpeg\" />\n",
    "\n",
    "### 이 경우 5의 위치에 설치했을 때, 안테나로부터 모든 집까지의 거리의 총 합이 (4+0+2+4)=10으로, 최소가 된다.\n",
    "\n",
    "### 입력\n",
    "- 집의 수 N의 범위는 1≤N≤200,000이며, N채의 집에 위치가 공백을 기준으로 구분되어 1이상 100,000이하의 자연수로 주어진다.\n",
    "\n",
    "### 출력\n",
    "- 첫째 줄에 안테나를 설치할 위치의 값을 출력한다. 단, 안테나를 설치할 수 있는 위치 값으로 여러 개의 값이 도출될 경우 가장 작은 값을 출력한다.\n",
    "\n",
    "### 입출력 예\n",
    "|입력 | 출력\n",
    "|----|----\n",
    "|[1,5,7,9]| 5"
   ]
  },
  {
   "cell_type": "code",
   "execution_count": null,
   "id": "3c118b97",
   "metadata": {},
   "outputs": [],
   "source": [
    "n = int(input())\n",
    "\n",
    "numbers = list(map(int, input().split()))\n",
    "\n",
    "numbers.sort()\n",
    "\n",
    "print(numbers[(n-1)//2])"
   ]
  }
 ],
 "metadata": {
  "kernelspec": {
   "display_name": "Python 3 (ipykernel)",
   "language": "python",
   "name": "python3"
  },
  "language_info": {
   "codemirror_mode": {
    "name": "ipython",
    "version": 3
   },
   "file_extension": ".py",
   "mimetype": "text/x-python",
   "name": "python",
   "nbconvert_exporter": "python",
   "pygments_lexer": "ipython3",
   "version": "3.8.12"
  }
 },
 "nbformat": 4,
 "nbformat_minor": 5
}
