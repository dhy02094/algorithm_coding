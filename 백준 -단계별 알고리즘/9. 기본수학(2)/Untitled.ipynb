{
 "cells": [
  {
   "cell_type": "code",
   "execution_count": 5,
   "id": "029caab3",
   "metadata": {},
   "outputs": [
    {
     "name": "stdout",
     "output_type": "stream",
     "text": [
      "0\n",
      "1\n",
      "2\n",
      "3\n",
      "4\n",
      "5\n"
     ]
    }
   ],
   "source": [
    "i = 0\n",
    "while i <= 5:\n",
    "    print(i)\n",
    "    i+=1\n"
   ]
  },
  {
   "cell_type": "code",
   "execution_count": 12,
   "id": "3bdf803a",
   "metadata": {},
   "outputs": [
    {
     "name": "stdout",
     "output_type": "stream",
     "text": [
      "*\n",
      "%%\n",
      "***\n",
      "%%%%\n",
      "*****\n"
     ]
    }
   ],
   "source": [
    "a = 1\n",
    "while 1:\n",
    "    if a == 6:\n",
    "        break\n",
    "    if a %2 == 1:\n",
    "        print('*' * a)\n",
    "        a +=1\n",
    "    else :\n",
    "        print('%' * a)\n",
    "        a += 1"
   ]
  },
  {
   "cell_type": "code",
   "execution_count": 19,
   "id": "0c7031a3",
   "metadata": {},
   "outputs": [
    {
     "name": "stdout",
     "output_type": "stream",
     "text": [
      "1683\n"
     ]
    }
   ],
   "source": [
    "a = 1\n",
    "sum = 0\n",
    "while a <= 100 :\n",
    "    if a % 3 == 0:\n",
    "        sum += a\n",
    "    a +=1\n",
    "print(sum)"
   ]
  },
  {
   "cell_type": "code",
   "execution_count": 20,
   "id": "1ff99da5",
   "metadata": {},
   "outputs": [
    {
     "name": "stdout",
     "output_type": "stream",
     "text": [
      "5\n",
      "dkjslf\n",
      "dkjslf\n",
      "dkjslf\n",
      "dkjslf\n",
      "dkjslf\n",
      "dkjslf\n",
      "dkjslf\n"
     ]
    }
   ],
   "source": [
    "num = int(input())\n",
    "sentence = input()\n",
    "\n",
    "cnt = 1\n",
    "while cnt <= num:\n",
    "    print(sentence)\n",
    "    cnt +=1"
   ]
  },
  {
   "cell_type": "code",
   "execution_count": null,
   "id": "576ef3fb",
   "metadata": {},
   "outputs": [],
   "source": [
    "while name == '김태형'\n",
    "    name = input()\n",
    "    if name == '김태형':\n",
    "        print('환영합니다')"
   ]
  }
 ],
 "metadata": {
  "kernelspec": {
   "display_name": "Python 3 (ipykernel)",
   "language": "python",
   "name": "python3"
  },
  "language_info": {
   "codemirror_mode": {
    "name": "ipython",
    "version": 3
   },
   "file_extension": ".py",
   "mimetype": "text/x-python",
   "name": "python",
   "nbconvert_exporter": "python",
   "pygments_lexer": "ipython3",
   "version": "3.8.12"
  }
 },
 "nbformat": 4,
 "nbformat_minor": 5
}
