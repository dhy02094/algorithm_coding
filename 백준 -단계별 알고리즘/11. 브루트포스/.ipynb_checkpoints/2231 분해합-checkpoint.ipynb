{
 "cells": [
  {
   "cell_type": "code",
   "execution_count": null,
   "id": "02c43eef",
   "metadata": {},
   "outputs": [],
   "source": [
    "n = int(input())\n",
    "\n",
    "for i in range(1,n+1):\n",
    "    num = sum((map(int, str(i))))\n",
    "    sum_num = i + num\n",
    "    \n",
    "    if sum_num == n:\n",
    "        print(i)\n",
    "        break\n",
    "    if i == n:\n",
    "        print(0)\n",
    "    \n",
    "    "
   ]
  }
 ],
 "metadata": {
  "kernelspec": {
   "display_name": "Python 3 (ipykernel)",
   "language": "python",
   "name": "python3"
  },
  "language_info": {
   "codemirror_mode": {
    "name": "ipython",
    "version": 3
   },
   "file_extension": ".py",
   "mimetype": "text/x-python",
   "name": "python",
   "nbconvert_exporter": "python",
   "pygments_lexer": "ipython3",
   "version": "3.8.12"
  }
 },
 "nbformat": 4,
 "nbformat_minor": 5
}
