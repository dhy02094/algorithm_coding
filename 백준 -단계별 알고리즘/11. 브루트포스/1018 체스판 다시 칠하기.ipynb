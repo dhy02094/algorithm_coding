{
 "cells": [
  {
   "cell_type": "code",
   "execution_count": null,
   "id": "ea2d899c",
   "metadata": {},
   "outputs": [],
   "source": [
    "n,m = map(int,input().split())\n",
    "chess = []\n",
    "mini = []\n",
    "for i in range(n):\n",
    "    chess.append(input)\n",
    "\n",
    "for a in range(n-7):\n",
    "    for i in range(m-7):\n",
    "        idx1 = 0         # W로 시작할 경우\n",
    "        idx2 = 0         # B로 시작할 경우\n",
    "        for b in range(a,a+8):\n",
    "            for j in range(i,i+8):\n",
    "                if (j+b)%2 == 0 :\n",
    "                    if chess[b][j] != 'W' : idx1 += 1\n",
    "                    if chess[b][j] != 'B' : idx2 += 1\n",
    "                else :\n",
    "                    if chess[b][j] != 'B' : idx1 += 1\n",
    "                    if chess[b][j] != 'W' : idx2 += 1\n",
    "        \n",
    "        mini.append(idx1)\n",
    "        mini.append(idx2)\n",
    "        \n",
    "print(min(mini))"
   ]
  },
  {
   "cell_type": "code",
   "execution_count": 7,
   "id": "346acd90",
   "metadata": {},
   "outputs": [
    {
     "name": "stdout",
     "output_type": "stream",
     "text": [
      "6\n",
      "19 20 21 22 17 29 \n",
      "5\n"
     ]
    }
   ],
   "source": [
    "n = int(input())\n",
    "a = list(map(int, input().split()))\n",
    "c = [1] * n\n",
    "\n",
    "for i in range(n) :\n",
    "    for j in range(i):\n",
    "        if a[j] < a[i] :\n",
    "            c[i] = max(c[i], c[j]+1)\n",
    "print(max(c))"
   ]
  },
  {
   "cell_type": "code",
   "execution_count": 8,
   "id": "a14bf277",
   "metadata": {},
   "outputs": [
    {
     "data": {
      "text/plain": [
       "[1, 2, 3, 4, 1, 5]"
      ]
     },
     "execution_count": 8,
     "metadata": {},
     "output_type": "execute_result"
    }
   ],
   "source": [
    "c"
   ]
  },
  {
   "cell_type": "code",
   "execution_count": 3,
   "id": "1b481599",
   "metadata": {},
   "outputs": [
    {
     "data": {
      "text/plain": [
       "[12, 54, 74, 29, 48]"
      ]
     },
     "execution_count": 3,
     "metadata": {},
     "output_type": "execute_result"
    }
   ],
   "source": [
    "a"
   ]
  },
  {
   "cell_type": "code",
   "execution_count": 4,
   "id": "58926161",
   "metadata": {
    "scrolled": true
   },
   "outputs": [
    {
     "data": {
      "text/plain": [
       "[1, 2, 3, 2, 3]"
      ]
     },
     "execution_count": 4,
     "metadata": {},
     "output_type": "execute_result"
    }
   ],
   "source": [
    "c = [1] * n\n",
    "\n",
    "for i in range(n) :\n",
    "    for j in range(i):\n",
    "        if a[j] < a[i] :\n",
    "            c[i] = max(c[i], c[j]+1)\n",
    "print(max(c))"
   ]
  },
  {
   "cell_type": "code",
   "execution_count": null,
   "id": "f613ea6b",
   "metadata": {},
   "outputs": [],
   "source": []
  }
 ],
 "metadata": {
  "kernelspec": {
   "display_name": "Python 3 (ipykernel)",
   "language": "python",
   "name": "python3"
  },
  "language_info": {
   "codemirror_mode": {
    "name": "ipython",
    "version": 3
   },
   "file_extension": ".py",
   "mimetype": "text/x-python",
   "name": "python",
   "nbconvert_exporter": "python",
   "pygments_lexer": "ipython3",
   "version": "3.8.12"
  }
 },
 "nbformat": 4,
 "nbformat_minor": 5
}
