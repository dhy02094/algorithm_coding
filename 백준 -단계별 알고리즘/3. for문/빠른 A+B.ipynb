{
 "cells": [
  {
   "cell_type": "code",
   "execution_count": null,
   "id": "63fc510d",
   "metadata": {},
   "outputs": [],
   "source": [
    "import sys\n",
    "t = int(sys.stdin.readline())\n",
    "for _ in range(t):\n",
    "    a,b = map(int, sys.stdin.readline().split())\n",
    "    print(a+b)"
   ]
  },
  {
   "cell_type": "code",
   "execution_count": null,
   "id": "985d70cc",
   "metadata": {},
   "outputs": [],
   "source": [
    "for _ in range(t):\n",
    "    a,b = map(int, input().split())\n",
    "    print(a+b)"
   ]
  }
 ],
 "metadata": {
  "kernelspec": {
   "display_name": "Python 3 (ipykernel)",
   "language": "python",
   "name": "python3"
  },
  "language_info": {
   "codemirror_mode": {
    "name": "ipython",
    "version": 3
   },
   "file_extension": ".py",
   "mimetype": "text/x-python",
   "name": "python",
   "nbconvert_exporter": "python",
   "pygments_lexer": "ipython3",
   "version": "3.8.12"
  }
 },
 "nbformat": 4,
 "nbformat_minor": 5
}
