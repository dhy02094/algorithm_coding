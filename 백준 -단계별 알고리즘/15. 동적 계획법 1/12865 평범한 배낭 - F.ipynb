{
 "cells": [
  {
   "cell_type": "code",
   "execution_count": 4,
   "id": "44c2a7a1",
   "metadata": {},
   "outputs": [
    {
     "name": "stdout",
     "output_type": "stream",
     "text": [
      "4 7\n",
      "6 13\n",
      "4 8\n",
      "3 6\n",
      "5 12\n",
      "14\n"
     ]
    }
   ],
   "source": [
    "n, k =  map(int, input().split())\n",
    "\n",
    "dp_w = [0] * n\n",
    "dp_v = [0] * n\n",
    "ws = []\n",
    "vs = []\n",
    "for _ in range(n):\n",
    "    w,v = map(int, input().split())\n",
    "    ws.append(w)\n",
    "    vs.append(v)\n",
    "\n",
    "dp_w[0], dp_v[0] = ws[0], vs[0]\n",
    "\n",
    "for i in range(1,n):\n",
    "    if dp_w[i-1] + ws[i] > 7 :\n",
    "        dp_w[i] = ws[i]\n",
    "        dp_v[i] = vs[i]\n",
    "    else :\n",
    "        dp_w[i] = max(dp_w[i-1]+ws[i], ws[i])\n",
    "        dp_v[i] = max(dp_v[i-1]+vs[i], vs[i])\n",
    "\n",
    "ans = 0\n",
    "for i in range(n):\n",
    "    if dp_w[i] == 7 :\n",
    "        ans = max(dp_v[i],ans)\n",
    "print(ans)\n",
    "        \n",
    "    \n",
    "    "
   ]
  },
  {
   "cell_type": "code",
   "execution_count": null,
   "id": "5cfc42b9",
   "metadata": {},
   "outputs": [],
   "source": [
    "n, k = map(int, input().split())\n",
    "bag = [[0,0]]\n",
    "dp = [[0 for _ in range(k+1)] for _ in range(k+1)]\n",
    "\n",
    "for _ in range(n):\n",
    "    bag.append(list(map(int, input().split())))\n",
    "    \n",
    "for i in range(1, n+1):\n",
    "    for j in range(1,k+1):\n",
    "        w = bag[i][0]\n",
    "        v = bag[j][1]\n",
    "        \n",
    "        if j < w :\n",
    "            dp[i][j] = dp[i-1][j]\n",
    "        else :\n",
    "            dp[i][j] = max(v + dp[i-1][j-w], dp[i-1][j])\n",
    "            "
   ]
  }
 ],
 "metadata": {
  "kernelspec": {
   "display_name": "Python 3 (ipykernel)",
   "language": "python",
   "name": "python3"
  },
  "language_info": {
   "codemirror_mode": {
    "name": "ipython",
    "version": 3
   },
   "file_extension": ".py",
   "mimetype": "text/x-python",
   "name": "python",
   "nbconvert_exporter": "python",
   "pygments_lexer": "ipython3",
   "version": "3.8.12"
  }
 },
 "nbformat": 4,
 "nbformat_minor": 5
}
