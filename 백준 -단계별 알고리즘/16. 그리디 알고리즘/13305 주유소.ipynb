{
 "cells": [
  {
   "cell_type": "markdown",
   "id": "02f95dbe",
   "metadata": {},
   "source": [
    "https://www.acmicpc.net/problem/13305"
   ]
  },
  {
   "cell_type": "code",
   "execution_count": null,
   "id": "330c1a8d",
   "metadata": {},
   "outputs": [],
   "source": [
    "n = int(input())\n",
    "dist = list(map(int,input().split()))\n",
    "cost = list(map(int, input().split()))\n",
    "res = 0\n",
    "\n",
    "c = cost[0]\n",
    "for i in range(n-1):\n",
    "    if c > cost[i] :\n",
    "        c = cost[i]\n",
    "    res += c * dist[i]\n",
    "print(res)"
   ]
  }
 ],
 "metadata": {
  "kernelspec": {
   "display_name": "Python 3 (ipykernel)",
   "language": "python",
   "name": "python3"
  },
  "language_info": {
   "codemirror_mode": {
    "name": "ipython",
    "version": 3
   },
   "file_extension": ".py",
   "mimetype": "text/x-python",
   "name": "python",
   "nbconvert_exporter": "python",
   "pygments_lexer": "ipython3",
   "version": "3.8.12"
  }
 },
 "nbformat": 4,
 "nbformat_minor": 5
}
